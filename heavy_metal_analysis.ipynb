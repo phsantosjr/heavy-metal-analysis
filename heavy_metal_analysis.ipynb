{
 "cells": [
  {
   "cell_type": "code",
   "execution_count": 14,
   "id": "116aa074-6176-4146-92f4-2c69797cb8bb",
   "metadata": {},
   "outputs": [],
   "source": [
    "import darklyrics\n",
    "import pandas as pd\n",
    "from wordcloud import WordCloud, STOPWORDS\n",
    "import matplotlib.pyplot as plt\n",
    "import pandas as pd\n",
    "import numpy as np\n",
    "from PIL import Image\n",
    "from collections import Counter"
   ]
  },
  {
   "cell_type": "markdown",
   "id": "1b3ad4e0-fb28-4456-b0a5-8e5b799163de",
   "metadata": {},
   "source": [
    "### Informe nas variáveis o nome da banda que deseja estudar"
   ]
  },
  {
   "cell_type": "code",
   "execution_count": 96,
   "id": "28e97523-ee03-40ea-8eaa-a3f7a43aaa5c",
   "metadata": {},
   "outputs": [],
   "source": [
    "artist = \"iron maiden\""
   ]
  },
  {
   "cell_type": "markdown",
   "id": "5a5072ea-901e-4a05-aeb9-04c1d282f155",
   "metadata": {},
   "source": [
    "## Retorna os álbuns da banda"
   ]
  },
  {
   "cell_type": "code",
   "execution_count": 97,
   "id": "d26d770e-2eca-49d4-acf3-f2adcfff1c65",
   "metadata": {},
   "outputs": [],
   "source": [
    "try:\n",
    "    albuns = darklyrics.get_albums(artist)\n",
    "\n",
    "except IndexError:\n",
    "    raise IndexError(\"Artista não encontrado\")"
   ]
  },
  {
   "cell_type": "code",
   "execution_count": 98,
   "id": "a3db6b25-4ce6-477c-bc3c-87038de7660f",
   "metadata": {},
   "outputs": [
    {
     "name": "stdout",
     "output_type": "stream",
     "text": [
      "iron maiden tem 28 discos encontrados\n"
     ]
    }
   ],
   "source": [
    "print(f\"{artist} tem {len(albuns)} discos encontrados\")"
   ]
  },
  {
   "cell_type": "markdown",
   "id": "9766d421-77da-4728-bc53-e44514fef3ce",
   "metadata": {},
   "source": [
    "### Retorne o nome das músicas"
   ]
  },
  {
   "cell_type": "code",
   "execution_count": 99,
   "id": "d87e16eb-9070-4dc5-aa9f-87616523d12b",
   "metadata": {},
   "outputs": [],
   "source": [
    "songs = darklyrics.get_songs(artist)"
   ]
  },
  {
   "cell_type": "code",
   "execution_count": 100,
   "id": "e0e1d249-62e7-48ca-a7d9-1486b9bddf83",
   "metadata": {},
   "outputs": [
    {
     "name": "stdout",
     "output_type": "stream",
     "text": [
      "iron maiden tem 208 músicas encontradas\n"
     ]
    }
   ],
   "source": [
    "print(f\"{artist} tem {len(songs)} músicas encontradas\")"
   ]
  },
  {
   "cell_type": "markdown",
   "id": "bac66ad6-7781-44f0-beb6-8d214d7e056d",
   "metadata": {},
   "source": [
    "### Remove nome de músicas duplicadas"
   ]
  },
  {
   "cell_type": "code",
   "execution_count": 101,
   "id": "f6ae6b05-ed9e-4e83-94ff-e5fa9df77017",
   "metadata": {},
   "outputs": [],
   "source": [
    "songs = set(songs)"
   ]
  },
  {
   "cell_type": "code",
   "execution_count": 102,
   "id": "b895a6f7-a490-4102-aec2-6706423ecc0a",
   "metadata": {},
   "outputs": [
    {
     "name": "stdout",
     "output_type": "stream",
     "text": [
      "iron maiden tem 197 músicas distintas encontradas\n"
     ]
    }
   ],
   "source": [
    "print(f\"{artist} tem {len(songs)} músicas distintas encontradas\")"
   ]
  },
  {
   "cell_type": "markdown",
   "id": "837587d4-1195-4f60-9c66-9143cb49a8f6",
   "metadata": {},
   "source": [
    "### Retorna todas músicas da banda"
   ]
  },
  {
   "cell_type": "code",
   "execution_count": 103,
   "id": "451efd08-ec2f-4aff-b7a9-9a1eb0bcab98",
   "metadata": {},
   "outputs": [],
   "source": [
    "lyrics = darklyrics.get_all_lyrics(artist)"
   ]
  },
  {
   "cell_type": "code",
   "execution_count": 104,
   "id": "1ba26d30-745c-4c74-986b-3a267bbc3785",
   "metadata": {},
   "outputs": [
    {
     "name": "stdout",
     "output_type": "stream",
     "text": [
      "iron maiden tem 258445 letras encontradas\n"
     ]
    }
   ],
   "source": [
    "print(f\"{artist} tem {len(lyrics)} letras encontradas\")"
   ]
  },
  {
   "cell_type": "code",
   "execution_count": 105,
   "id": "89cef3e6-b76e-43cf-8886-f214465cfbe7",
   "metadata": {},
   "outputs": [
    {
     "data": {
      "text/plain": [
       "\"\\n  [Steve Harris]\\n\\n Walking through the city, looking oh so pretty,\\n I've just got to find my way.\\n \""
      ]
     },
     "execution_count": 105,
     "metadata": {},
     "output_type": "execute_result"
    }
   ],
   "source": [
    "lyrics[:100]"
   ]
  },
  {
   "cell_type": "code",
   "execution_count": 106,
   "id": "c9ecbe41-25eb-4e62-b583-9fd359a30c98",
   "metadata": {},
   "outputs": [],
   "source": [
    "lyrics = lyrics.replace(\"\\n\\n\", \" \").replace(\"\\n\", \" \").strip()"
   ]
  },
  {
   "cell_type": "code",
   "execution_count": 94,
   "id": "f23d6f27-45fe-4599-b0d3-35aa0ee0308d",
   "metadata": {},
   "outputs": [
    {
     "name": "stdout",
     "output_type": "stream",
     "text": [
      "slayer tem 165722 letras distintas encontradas\n"
     ]
    }
   ],
   "source": [
    "print(f\"{artist} tem {len(lyrics)} letras distintas encontradas\")"
   ]
  },
  {
   "cell_type": "markdown",
   "id": "3bf9f36a-9c18-46dd-a5fe-703af1ae39b7",
   "metadata": {},
   "source": [
    "### Criar uma nuvem de palavras"
   ]
  },
  {
   "cell_type": "code",
   "execution_count": 83,
   "id": "d34cd155-13cf-4980-83d1-8e21e63257e4",
   "metadata": {},
   "outputs": [],
   "source": [
    "stopwords = set(STOPWORDS)"
   ]
  },
  {
   "cell_type": "code",
   "execution_count": 84,
   "id": "e0e462d0-96fa-4779-8cca-d0bb72a8d34c",
   "metadata": {},
   "outputs": [],
   "source": [
    "def get_top_most_words(top=10):\n",
    "    words = []\n",
    "    \n",
    "    for val in lyrics.split():\n",
    "        if val.lower() not in stopwords:\n",
    "            words.append(val)\n",
    "    \n",
    "    group_by_word = Counter(words)\n",
    "    \n",
    "    return group_by_word.most_common(top)\n",
    "    "
   ]
  },
  {
   "cell_type": "code",
   "execution_count": 85,
   "id": "998f2936-a734-4e67-9bd0-35e86333cfdd",
   "metadata": {},
   "outputs": [],
   "source": [
    "# informe o valor do parâmetro top na function get_top_most_words para indicar a quantidade de palavras que quer retornar\n",
    "most_common = get_top_most_words(top=20)"
   ]
  },
  {
   "cell_type": "code",
   "execution_count": 86,
   "id": "7cca8838-c3cb-42eb-8b7a-d1eb95fdb5db",
   "metadata": {},
   "outputs": [
    {
     "name": "stdout",
     "output_type": "stream",
     "text": [
      "[('will', 155), ('death', 136), ('life', 121), ('blood', 114), ('-', 108), ('never', 107), ('see', 104), ('way', 87), ('time', 85), ('fucking', 85), ('eyes', 80), ('King]', 79), ('pain', 78), ('die', 77), ('mind', 77), ('one', 75), ('God', 73), ('world', 71), ('dead', 69), ('now', 67)]\n"
     ]
    }
   ],
   "source": [
    "print(most_common)"
   ]
  },
  {
   "cell_type": "code",
   "execution_count": 87,
   "id": "c707d6db-d274-483a-bbb0-6e7738a779ab",
   "metadata": {},
   "outputs": [],
   "source": [
    "def create_word_cloud(words: tuple):\n",
    "    lyric_words = \"\"\n",
    "    \n",
    "    for val in words:\n",
    "        val = str(val[0]) \n",
    "  \n",
    "        # split the value\n",
    "        tokens = val.split() \n",
    "      \n",
    "        # converts each token into lowercase \n",
    "        for i in range(len(tokens)): \n",
    "            tokens[i] = tokens[i].lower() \n",
    "      \n",
    "        lyric_words += \" \".join(tokens)+\" \"\n",
    "        \n",
    "    # gets color of the image\n",
    "    custom_image = np.array(Image.open(\"resources/cloud.png\"))\n",
    "\n",
    "    # creates wordcloud\n",
    "    wordcloud = WordCloud(\n",
    "        background_color ='white', \n",
    "        stopwords = stopwords, \n",
    "        mask = custom_image).generate(lyric_words)\n",
    "    \n",
    "     # displays the wordcloud\n",
    "    plt.imshow(wordcloud, interpolation = 'bilinear') \n",
    "    plt.axis(\"off\") \n",
    "    plt.tight_layout(pad = 0)   \n",
    "    plt.show()"
   ]
  },
  {
   "cell_type": "code",
   "execution_count": 88,
   "id": "cafa00db-1cdd-4c36-aff8-c74482fcef39",
   "metadata": {},
   "outputs": [
    {
     "data": {
      "image/png": "[encoded data removed]",
      "text/plain": [
       "<Figure size 432x288 with 1 Axes>"
      ]
     },
     "metadata": {
      "needs_background": "light"
     },
     "output_type": "display_data"
    }
   ],
   "source": [
    "create_word_cloud(most_common)"
   ]
  },
  {
   "cell_type": "code",
   "execution_count": 89,
   "id": "24a68fde-18a6-40d9-8bca-99c23cffabfd",
   "metadata": {},
   "outputs": [],
   "source": [
    "df = pd.DataFrame(most_common, columns=['word', 'total'])"
   ]
  },
  {
   "cell_type": "code",
   "execution_count": 90,
   "id": "4f8b7c24-b248-485a-89d8-576a8e384a20",
   "metadata": {},
   "outputs": [
    {
     "data": {
      "text/html": [
       "<div>\n",
       "<style scoped>\n",
       "    .dataframe tbody tr th:only-of-type {\n",
       "        vertical-align: middle;\n",
       "    }\n",
       "\n",
       "    .dataframe tbody tr th {\n",
       "        vertical-align: top;\n",
       "    }\n",
       "\n",
       "    .dataframe thead th {\n",
       "        text-align: right;\n",
       "    }\n",
       "</style>\n",
       "<table border=\"1\" class=\"dataframe\">\n",
       "  <thead>\n",
       "    <tr style=\"text-align: right;\">\n",
       "      <th></th>\n",
       "      <th>word</th>\n",
       "      <th>total</th>\n",
       "    </tr>\n",
       "  </thead>\n",
       "  <tbody>\n",
       "    <tr>\n",
       "      <th>0</th>\n",
       "      <td>will</td>\n",
       "      <td>155</td>\n",
       "    </tr>\n",
       "    <tr>\n",
       "      <th>1</th>\n",
       "      <td>death</td>\n",
       "      <td>136</td>\n",
       "    </tr>\n",
       "    <tr>\n",
       "      <th>2</th>\n",
       "      <td>life</td>\n",
       "      <td>121</td>\n",
       "    </tr>\n",
       "    <tr>\n",
       "      <th>3</th>\n",
       "      <td>blood</td>\n",
       "      <td>114</td>\n",
       "    </tr>\n",
       "    <tr>\n",
       "      <th>4</th>\n",
       "      <td>-</td>\n",
       "      <td>108</td>\n",
       "    </tr>\n",
       "    <tr>\n",
       "      <th>5</th>\n",
       "      <td>never</td>\n",
       "      <td>107</td>\n",
       "    </tr>\n",
       "    <tr>\n",
       "      <th>6</th>\n",
       "      <td>see</td>\n",
       "      <td>104</td>\n",
       "    </tr>\n",
       "    <tr>\n",
       "      <th>7</th>\n",
       "      <td>way</td>\n",
       "      <td>87</td>\n",
       "    </tr>\n",
       "    <tr>\n",
       "      <th>8</th>\n",
       "      <td>time</td>\n",
       "      <td>85</td>\n",
       "    </tr>\n",
       "    <tr>\n",
       "      <th>9</th>\n",
       "      <td>fucking</td>\n",
       "      <td>85</td>\n",
       "    </tr>\n",
       "    <tr>\n",
       "      <th>10</th>\n",
       "      <td>eyes</td>\n",
       "      <td>80</td>\n",
       "    </tr>\n",
       "    <tr>\n",
       "      <th>11</th>\n",
       "      <td>King]</td>\n",
       "      <td>79</td>\n",
       "    </tr>\n",
       "    <tr>\n",
       "      <th>12</th>\n",
       "      <td>pain</td>\n",
       "      <td>78</td>\n",
       "    </tr>\n",
       "    <tr>\n",
       "      <th>13</th>\n",
       "      <td>die</td>\n",
       "      <td>77</td>\n",
       "    </tr>\n",
       "    <tr>\n",
       "      <th>14</th>\n",
       "      <td>mind</td>\n",
       "      <td>77</td>\n",
       "    </tr>\n",
       "    <tr>\n",
       "      <th>15</th>\n",
       "      <td>one</td>\n",
       "      <td>75</td>\n",
       "    </tr>\n",
       "    <tr>\n",
       "      <th>16</th>\n",
       "      <td>God</td>\n",
       "      <td>73</td>\n",
       "    </tr>\n",
       "    <tr>\n",
       "      <th>17</th>\n",
       "      <td>world</td>\n",
       "      <td>71</td>\n",
       "    </tr>\n",
       "    <tr>\n",
       "      <th>18</th>\n",
       "      <td>dead</td>\n",
       "      <td>69</td>\n",
       "    </tr>\n",
       "    <tr>\n",
       "      <th>19</th>\n",
       "      <td>now</td>\n",
       "      <td>67</td>\n",
       "    </tr>\n",
       "  </tbody>\n",
       "</table>\n",
       "</div>"
      ],
      "text/plain": [
       "       word  total\n",
       "0      will    155\n",
       "1     death    136\n",
       "2      life    121\n",
       "3     blood    114\n",
       "4         -    108\n",
       "5     never    107\n",
       "6       see    104\n",
       "7       way     87\n",
       "8      time     85\n",
       "9   fucking     85\n",
       "10     eyes     80\n",
       "11    King]     79\n",
       "12     pain     78\n",
       "13      die     77\n",
       "14     mind     77\n",
       "15      one     75\n",
       "16      God     73\n",
       "17    world     71\n",
       "18     dead     69\n",
       "19      now     67"
      ]
     },
     "execution_count": 90,
     "metadata": {},
     "output_type": "execute_result"
    }
   ],
   "source": [
    "df.head(20)"
   ]
  },
  {
   "cell_type": "code",
   "execution_count": 55,
   "id": "f7288499-d2c5-45fc-a5e4-ce1b31952205",
   "metadata": {},
   "outputs": [],
   "source": [
    "def autopct(pct): # only show the label when it's > 10%\n",
    "    return ('%.2f' % pct) if pct > 10 else ''"
   ]
  },
  {
   "cell_type": "code",
   "execution_count": null,
   "id": "2d2dae43-cf68-4d5f-bf36-07ecaadb5567",
   "metadata": {},
   "outputs": [],
   "source": [
    "%matplotlib inline\n",
    "\n",
    "my_labels = [d[0] for d in most_common]\n",
    "\n",
    "ax = df['total'].value_counts().plot(kind='pie', figsize=(30,16), autopct=autopct, labels=None)\n",
    "ax.axes.get_yaxis().set_visible(False)\n",
    "plt.legend(loc=5, labels=my_labels)"
   ]
  },
  {
   "cell_type": "markdown",
   "id": "13a3c262-24df-48dc-8df5-aadd3fb45c30",
   "metadata": {},
   "source": [
    "### Identificar quem é o membro da banda que mais escreve música"
   ]
  },
  {
   "cell_type": "code",
   "execution_count": null,
   "id": "333816ac-9a45-47c6-8973-838fe8ec9fe2",
   "metadata": {},
   "outputs": [],
   "source": [
    "import re\n",
    "\n",
    "text_in_brackets = re.findall(r'\\[.*?\\]', lyrics)\n",
    "print(text_in_brackets)"
   ]
  },
  {
   "cell_type": "code",
   "execution_count": null,
   "id": "3c593564-7fd9-4678-bdb0-530466f3009d",
   "metadata": {},
   "outputs": [],
   "source": []
  }
 ],
 "metadata": {
  "kernelspec": {
   "display_name": "Python 3 (ipykernel)",
   "language": "python",
   "name": "python3"
  },
  "language_info": {
   "codemirror_mode": {
    "name": "ipython",
    "version": 3
   },
   "file_extension": ".py",
   "mimetype": "text/x-python",
   "name": "python",
   "nbconvert_exporter": "python",
   "pygments_lexer": "ipython3",
   "version": "3.8.12"
  }
 },
 "nbformat": 4,
 "nbformat_minor": 5
}
